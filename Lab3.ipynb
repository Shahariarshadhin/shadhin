{
  "nbformat": 4,
  "nbformat_minor": 0,
  "metadata": {
    "colab": {
      "name": "Lab3.ipynb",
      "provenance": [],
      "authorship_tag": "ABX9TyPDsd9tFzCD2hSUF0V9I/sv",
      "include_colab_link": true
    },
    "kernelspec": {
      "name": "python3",
      "display_name": "Python 3"
    }
  },
  "cells": [
    {
      "cell_type": "markdown",
      "metadata": {
        "id": "view-in-github",
        "colab_type": "text"
      },
      "source": [
        "<a href=\"https://colab.research.google.com/github/Shahariarshadhin/shadhin/blob/main/Lab3.ipynb\" target=\"_parent\"><img src=\"https://colab.research.google.com/assets/colab-badge.svg\" alt=\"Open In Colab\"/></a>"
      ]
    },
    {
      "cell_type": "code",
      "metadata": {
        "colab": {
          "base_uri": "https://localhost:8080/"
        },
        "id": "Xk5wKv1Qpv3_",
        "outputId": "ab410c98-0b5a-489e-bb50-ee0f4726e5ce"
      },
      "source": [
        "courselist = [\"Artificial Intelligence\",\"Simulation and Modeling\",\"Web Engineering\"]\r\n",
        "\r\n",
        "print(courselist)"
      ],
      "execution_count": 25,
      "outputs": [
        {
          "output_type": "stream",
          "text": [
            "['Artificial Intelligence', 'Simulation and Modeling', 'Web Engineering']\n"
          ],
          "name": "stdout"
        }
      ]
    },
    {
      "cell_type": "code",
      "metadata": {
        "colab": {
          "base_uri": "https://localhost:8080/"
        },
        "id": "vwZC-whzq-o-",
        "outputId": "f101cdb4-bbe6-4641-983d-a2d3f6c713df"
      },
      "source": [
        "courselist.remove(\"Web Engineering\")\r\n",
        "print(courselist)"
      ],
      "execution_count": 26,
      "outputs": [
        {
          "output_type": "stream",
          "text": [
            "['Artificial Intelligence', 'Simulation and Modeling']\n"
          ],
          "name": "stdout"
        }
      ]
    }
  ]
}