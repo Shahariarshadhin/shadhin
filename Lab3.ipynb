{
  "nbformat": 4,
  "nbformat_minor": 0,
  "metadata": {
    "colab": {
      "name": "Lab3.ipynb",
      "provenance": [],
      "authorship_tag": "ABX9TyMgPLSoiikwaT+ZifBBK7V8",
      "include_colab_link": true
    },
    "kernelspec": {
      "name": "python3",
      "display_name": "Python 3"
    }
  },
  "cells": [
    {
      "cell_type": "markdown",
      "metadata": {
        "id": "view-in-github",
        "colab_type": "text"
      },
      "source": [
        "<a href=\"https://colab.research.google.com/github/Shahariarshadhin/shadhin/blob/main/Lab3.ipynb\" target=\"_parent\"><img src=\"https://colab.research.google.com/assets/colab-badge.svg\" alt=\"Open In Colab\"/></a>"
      ]
    },
    {
      "cell_type": "code",
      "metadata": {
        "colab": {
          "base_uri": "https://localhost:8080/"
        },
        "id": "Xk5wKv1Qpv3_",
        "outputId": "45b671fc-7b75-4fc0-8d7e-05a8c94a9cca"
      },
      "source": [
        "courselist = [\"Artificial Engineering\",\"Simulation and Modeling\",\"Web Engineering\"]\r\n",
        "\r\n",
        "print(courselist)"
      ],
      "execution_count": 23,
      "outputs": [
        {
          "output_type": "stream",
          "text": [
            "['Artificial Engineering', 'Simulation and Modeling', 'Web Engineering']\n"
          ],
          "name": "stdout"
        }
      ]
    },
    {
      "cell_type": "code",
      "metadata": {
        "colab": {
          "base_uri": "https://localhost:8080/"
        },
        "id": "vwZC-whzq-o-",
        "outputId": "d2668a68-e9aa-4820-8f8f-2426a0691548"
      },
      "source": [
        "courselist.remove(\"Web Engineering\")\r\n",
        "print(courselist)"
      ],
      "execution_count": 24,
      "outputs": [
        {
          "output_type": "stream",
          "text": [
            "['Artificial Engineering', 'Simulation and Modeling']\n"
          ],
          "name": "stdout"
        }
      ]
    }
  ]
}